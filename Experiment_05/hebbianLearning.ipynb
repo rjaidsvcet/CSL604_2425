{
 "cells": [
  {
   "cell_type": "markdown",
   "id": "033c5558-b268-49c5-8925-0fb7d2c03262",
   "metadata": {},
   "source": [
    "### Basic Hebbian Learning Rule\n",
    "\n",
    "$$\n",
    "\\nabla w_{ij}=\\gamma.x_i.y_i\n",
    "$$"
   ]
  },
  {
   "cell_type": "markdown",
   "id": "bad861a5-1820-457d-957c-ef652e05392a",
   "metadata": {},
   "source": [
    "### Implementation"
   ]
  },
  {
   "cell_type": "code",
   "execution_count": 1,
   "id": "9a3cc5e8-45b0-4b8f-bb30-a287d1152fd2",
   "metadata": {},
   "outputs": [],
   "source": [
    "import numpy as np\n",
    "import matplotlib.pyplot as plt"
   ]
  },
  {
   "cell_type": "code",
   "execution_count": 2,
   "id": "6ba5ab5a-f7f1-46bb-98f0-a4a66790d4e1",
   "metadata": {},
   "outputs": [],
   "source": [
    "# Parameters\n",
    "learning_rate = 0.01\n",
    "epochs = 100"
   ]
  },
  {
   "cell_type": "code",
   "execution_count": 3,
   "id": "5cbe605e-3ec8-4d0d-99eb-16c7e51591db",
   "metadata": {},
   "outputs": [],
   "source": [
    "# Input Data (e.g., AND Gate)\n",
    "X = np.array([\n",
    "    [0, 0],\n",
    "    [0, 1],\n",
    "    [1, 0],\n",
    "    [1, 1]\n",
    "])\n",
    "\n",
    "# Target Output\n",
    "y = np.array([0, 0, 0, 1])"
   ]
  },
  {
   "cell_type": "code",
   "execution_count": 4,
   "id": "1cde0432-7304-4029-994d-588cf6eb2675",
   "metadata": {},
   "outputs": [],
   "source": [
    "# Initialize Weights and Bias\n",
    "weights = np.random.rand(2)\n",
    "bias = np.random.rand()"
   ]
  },
  {
   "cell_type": "code",
   "execution_count": 5,
   "id": "b6643359-393d-4b97-856e-573f0993d7d7",
   "metadata": {},
   "outputs": [],
   "source": [
    "# Activation Function\n",
    "def activation_function(x):\n",
    "    return 1 if x >= 0 else 0"
   ]
  },
  {
   "cell_type": "code",
   "execution_count": 6,
   "id": "aa9a92fb-c470-475e-9b5c-821fa18a3465",
   "metadata": {},
   "outputs": [],
   "source": [
    "# Training Loop\n",
    "for epoch in range(epochs):\n",
    "    for i in range(len(X)):\n",
    "        input_vector = X[i]\n",
    "        target = y[i]\n",
    "        \n",
    "        # Weighted Sum\n",
    "        weighted_sum = np.dot(weights, input_vector) + bias\n",
    "        \n",
    "        # Output\n",
    "        output = activation_function(weighted_sum)\n",
    "        \n",
    "        # Hebbian Learning Rule\n",
    "        delta_w = learning_rate * input_vector * output\n",
    "        delta_b = learning_rate * output\n",
    "        \n",
    "        # Update Weights and Bias\n",
    "        weights += delta_w\n",
    "        bias += delta_b"
   ]
  },
  {
   "cell_type": "code",
   "execution_count": 7,
   "id": "d111fbb0-ceb1-4776-ae70-2e3c15d8ab92",
   "metadata": {},
   "outputs": [
    {
     "name": "stdout",
     "output_type": "stream",
     "text": [
      "Trained Weights: [2.27053238 2.70339428]\n",
      "Trained Bias: 4.95599408964144\n"
     ]
    }
   ],
   "source": [
    "# Results\n",
    "print(\"Trained Weights:\", weights)\n",
    "print(\"Trained Bias:\", bias)"
   ]
  },
  {
   "cell_type": "code",
   "execution_count": 8,
   "id": "44966674-00dc-4c37-b87b-4b9c4ea6d9d7",
   "metadata": {},
   "outputs": [
    {
     "name": "stdout",
     "output_type": "stream",
     "text": [
      "Input: [0 0], Predicted Output: 1\n",
      "Input: [0 1], Predicted Output: 1\n",
      "Input: [1 0], Predicted Output: 1\n",
      "Input: [1 1], Predicted Output: 1\n"
     ]
    }
   ],
   "source": [
    "# Testing\n",
    "for i in range(len(X)):\n",
    "    input_vector = X[i]\n",
    "    weighted_sum = np.dot(weights, input_vector) + bias\n",
    "    output = activation_function(weighted_sum)\n",
    "    print(f\"Input: {input_vector}, Predicted Output: {output}\")"
   ]
  },
  {
   "cell_type": "code",
   "execution_count": null,
   "id": "b740031a-7780-4dc8-b8bb-f85f9f50b29a",
   "metadata": {},
   "outputs": [],
   "source": []
  }
 ],
 "metadata": {
  "kernelspec": {
   "display_name": "Python 3 (ipykernel)",
   "language": "python",
   "name": "python3"
  },
  "language_info": {
   "codemirror_mode": {
    "name": "ipython",
    "version": 3
   },
   "file_extension": ".py",
   "mimetype": "text/x-python",
   "name": "python",
   "nbconvert_exporter": "python",
   "pygments_lexer": "ipython3",
   "version": "3.11.5"
  }
 },
 "nbformat": 4,
 "nbformat_minor": 5
}
